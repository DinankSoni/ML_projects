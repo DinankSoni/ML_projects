{
 "cells": [
  {
   "cell_type": "code",
   "execution_count": 16,
   "id": "b210fe03",
   "metadata": {},
   "outputs": [
    {
     "data": {
      "text/html": [
       "<div>\n",
       "<style scoped>\n",
       "    .dataframe tbody tr th:only-of-type {\n",
       "        vertical-align: middle;\n",
       "    }\n",
       "\n",
       "    .dataframe tbody tr th {\n",
       "        vertical-align: top;\n",
       "    }\n",
       "\n",
       "    .dataframe thead th {\n",
       "        text-align: right;\n",
       "    }\n",
       "</style>\n",
       "<table border=\"1\" class=\"dataframe\">\n",
       "  <thead>\n",
       "    <tr style=\"text-align: right;\">\n",
       "      <th></th>\n",
       "      <th>id</th>\n",
       "      <th>surgery</th>\n",
       "      <th>age</th>\n",
       "      <th>hospital_number</th>\n",
       "      <th>rectal_temp</th>\n",
       "      <th>pulse</th>\n",
       "      <th>respiratory_rate</th>\n",
       "      <th>temp_of_extremities</th>\n",
       "      <th>peripheral_pulse</th>\n",
       "      <th>mucous_membrane</th>\n",
       "      <th>...</th>\n",
       "      <th>packed_cell_volume</th>\n",
       "      <th>total_protein</th>\n",
       "      <th>abdomo_appearance</th>\n",
       "      <th>abdomo_protein</th>\n",
       "      <th>surgical_lesion</th>\n",
       "      <th>lesion_1</th>\n",
       "      <th>lesion_2</th>\n",
       "      <th>lesion_3</th>\n",
       "      <th>cp_data</th>\n",
       "      <th>outcome</th>\n",
       "    </tr>\n",
       "  </thead>\n",
       "  <tbody>\n",
       "    <tr>\n",
       "      <th>0</th>\n",
       "      <td>0</td>\n",
       "      <td>yes</td>\n",
       "      <td>adult</td>\n",
       "      <td>530001</td>\n",
       "      <td>38.1</td>\n",
       "      <td>132.0</td>\n",
       "      <td>24.0</td>\n",
       "      <td>cool</td>\n",
       "      <td>reduced</td>\n",
       "      <td>dark_cyanotic</td>\n",
       "      <td>...</td>\n",
       "      <td>57.0</td>\n",
       "      <td>8.5</td>\n",
       "      <td>serosanguious</td>\n",
       "      <td>3.4</td>\n",
       "      <td>yes</td>\n",
       "      <td>2209</td>\n",
       "      <td>0</td>\n",
       "      <td>0</td>\n",
       "      <td>no</td>\n",
       "      <td>died</td>\n",
       "    </tr>\n",
       "    <tr>\n",
       "      <th>1</th>\n",
       "      <td>1</td>\n",
       "      <td>yes</td>\n",
       "      <td>adult</td>\n",
       "      <td>533836</td>\n",
       "      <td>37.5</td>\n",
       "      <td>88.0</td>\n",
       "      <td>12.0</td>\n",
       "      <td>cool</td>\n",
       "      <td>normal</td>\n",
       "      <td>pale_cyanotic</td>\n",
       "      <td>...</td>\n",
       "      <td>33.0</td>\n",
       "      <td>64.0</td>\n",
       "      <td>serosanguious</td>\n",
       "      <td>2.0</td>\n",
       "      <td>yes</td>\n",
       "      <td>2208</td>\n",
       "      <td>0</td>\n",
       "      <td>0</td>\n",
       "      <td>no</td>\n",
       "      <td>euthanized</td>\n",
       "    </tr>\n",
       "    <tr>\n",
       "      <th>2</th>\n",
       "      <td>2</td>\n",
       "      <td>yes</td>\n",
       "      <td>adult</td>\n",
       "      <td>529812</td>\n",
       "      <td>38.3</td>\n",
       "      <td>120.0</td>\n",
       "      <td>28.0</td>\n",
       "      <td>cool</td>\n",
       "      <td>reduced</td>\n",
       "      <td>pale_pink</td>\n",
       "      <td>...</td>\n",
       "      <td>37.0</td>\n",
       "      <td>6.4</td>\n",
       "      <td>serosanguious</td>\n",
       "      <td>3.4</td>\n",
       "      <td>yes</td>\n",
       "      <td>5124</td>\n",
       "      <td>0</td>\n",
       "      <td>0</td>\n",
       "      <td>no</td>\n",
       "      <td>lived</td>\n",
       "    </tr>\n",
       "    <tr>\n",
       "      <th>3</th>\n",
       "      <td>3</td>\n",
       "      <td>yes</td>\n",
       "      <td>adult</td>\n",
       "      <td>5262541</td>\n",
       "      <td>37.1</td>\n",
       "      <td>72.0</td>\n",
       "      <td>30.0</td>\n",
       "      <td>cold</td>\n",
       "      <td>reduced</td>\n",
       "      <td>pale_pink</td>\n",
       "      <td>...</td>\n",
       "      <td>53.0</td>\n",
       "      <td>7.0</td>\n",
       "      <td>cloudy</td>\n",
       "      <td>3.9</td>\n",
       "      <td>yes</td>\n",
       "      <td>2208</td>\n",
       "      <td>0</td>\n",
       "      <td>0</td>\n",
       "      <td>yes</td>\n",
       "      <td>lived</td>\n",
       "    </tr>\n",
       "    <tr>\n",
       "      <th>4</th>\n",
       "      <td>4</td>\n",
       "      <td>no</td>\n",
       "      <td>adult</td>\n",
       "      <td>5299629</td>\n",
       "      <td>38.0</td>\n",
       "      <td>52.0</td>\n",
       "      <td>48.0</td>\n",
       "      <td>normal</td>\n",
       "      <td>normal</td>\n",
       "      <td>normal_pink</td>\n",
       "      <td>...</td>\n",
       "      <td>47.0</td>\n",
       "      <td>7.3</td>\n",
       "      <td>cloudy</td>\n",
       "      <td>2.6</td>\n",
       "      <td>no</td>\n",
       "      <td>0</td>\n",
       "      <td>0</td>\n",
       "      <td>0</td>\n",
       "      <td>yes</td>\n",
       "      <td>lived</td>\n",
       "    </tr>\n",
       "  </tbody>\n",
       "</table>\n",
       "<p>5 rows × 29 columns</p>\n",
       "</div>"
      ],
      "text/plain": [
       "   id surgery    age  hospital_number  rectal_temp  pulse  respiratory_rate  \\\n",
       "0   0     yes  adult           530001         38.1  132.0              24.0   \n",
       "1   1     yes  adult           533836         37.5   88.0              12.0   \n",
       "2   2     yes  adult           529812         38.3  120.0              28.0   \n",
       "3   3     yes  adult          5262541         37.1   72.0              30.0   \n",
       "4   4      no  adult          5299629         38.0   52.0              48.0   \n",
       "\n",
       "  temp_of_extremities peripheral_pulse mucous_membrane  ...  \\\n",
       "0                cool          reduced   dark_cyanotic  ...   \n",
       "1                cool           normal   pale_cyanotic  ...   \n",
       "2                cool          reduced       pale_pink  ...   \n",
       "3                cold          reduced       pale_pink  ...   \n",
       "4              normal           normal     normal_pink  ...   \n",
       "\n",
       "  packed_cell_volume total_protein abdomo_appearance abdomo_protein  \\\n",
       "0               57.0           8.5     serosanguious            3.4   \n",
       "1               33.0          64.0     serosanguious            2.0   \n",
       "2               37.0           6.4     serosanguious            3.4   \n",
       "3               53.0           7.0            cloudy            3.9   \n",
       "4               47.0           7.3            cloudy            2.6   \n",
       "\n",
       "  surgical_lesion lesion_1  lesion_2 lesion_3 cp_data     outcome  \n",
       "0             yes     2209         0        0      no        died  \n",
       "1             yes     2208         0        0      no  euthanized  \n",
       "2             yes     5124         0        0      no       lived  \n",
       "3             yes     2208         0        0     yes       lived  \n",
       "4              no        0         0        0     yes       lived  \n",
       "\n",
       "[5 rows x 29 columns]"
      ]
     },
     "execution_count": 16,
     "metadata": {},
     "output_type": "execute_result"
    }
   ],
   "source": [
    "import pandas as pd\n",
    "df = pd.read_csv('./datasets/Predict Health Horses.csv')\n",
    "df.head()"
   ]
  },
  {
   "cell_type": "code",
   "execution_count": 17,
   "id": "3d76ac12",
   "metadata": {},
   "outputs": [
    {
     "name": "stdout",
     "output_type": "stream",
     "text": [
      "<class 'pandas.core.frame.DataFrame'>\n",
      "RangeIndex: 1235 entries, 0 to 1234\n",
      "Data columns (total 29 columns):\n",
      " #   Column                 Non-Null Count  Dtype  \n",
      "---  ------                 --------------  -----  \n",
      " 0   id                     1235 non-null   int64  \n",
      " 1   surgery                1235 non-null   object \n",
      " 2   age                    1235 non-null   object \n",
      " 3   hospital_number        1235 non-null   int64  \n",
      " 4   rectal_temp            1235 non-null   float64\n",
      " 5   pulse                  1235 non-null   float64\n",
      " 6   respiratory_rate       1235 non-null   float64\n",
      " 7   temp_of_extremities    1235 non-null   object \n",
      " 8   peripheral_pulse       1235 non-null   object \n",
      " 9   mucous_membrane        1235 non-null   object \n",
      " 10  capillary_refill_time  1235 non-null   object \n",
      " 11  pain                   1235 non-null   object \n",
      " 12  peristalsis            1235 non-null   object \n",
      " 13  abdominal_distention   1235 non-null   object \n",
      " 14  nasogastric_tube       1235 non-null   object \n",
      " 15  nasogastric_reflux     1235 non-null   object \n",
      " 16  nasogastric_reflux_ph  1235 non-null   float64\n",
      " 17  rectal_exam_feces      1235 non-null   object \n",
      " 18  abdomen                1235 non-null   object \n",
      " 19  packed_cell_volume     1235 non-null   float64\n",
      " 20  total_protein          1235 non-null   float64\n",
      " 21  abdomo_appearance      1235 non-null   object \n",
      " 22  abdomo_protein         1235 non-null   float64\n",
      " 23  surgical_lesion        1235 non-null   object \n",
      " 24  lesion_1               1235 non-null   int64  \n",
      " 25  lesion_2               1235 non-null   int64  \n",
      " 26  lesion_3               1235 non-null   int64  \n",
      " 27  cp_data                1235 non-null   object \n",
      " 28  outcome                1235 non-null   object \n",
      "dtypes: float64(7), int64(5), object(17)\n",
      "memory usage: 279.9+ KB\n"
     ]
    }
   ],
   "source": [
    "df.info()"
   ]
  },
  {
   "cell_type": "code",
   "execution_count": 18,
   "id": "b255e85a",
   "metadata": {},
   "outputs": [
    {
     "data": {
      "text/plain": [
       "id                       0\n",
       "surgery                  0\n",
       "age                      0\n",
       "hospital_number          0\n",
       "rectal_temp              0\n",
       "pulse                    0\n",
       "respiratory_rate         0\n",
       "temp_of_extremities      0\n",
       "peripheral_pulse         0\n",
       "mucous_membrane          0\n",
       "capillary_refill_time    0\n",
       "pain                     0\n",
       "peristalsis              0\n",
       "abdominal_distention     0\n",
       "nasogastric_tube         0\n",
       "nasogastric_reflux       0\n",
       "nasogastric_reflux_ph    0\n",
       "rectal_exam_feces        0\n",
       "abdomen                  0\n",
       "packed_cell_volume       0\n",
       "total_protein            0\n",
       "abdomo_appearance        0\n",
       "abdomo_protein           0\n",
       "surgical_lesion          0\n",
       "lesion_1                 0\n",
       "lesion_2                 0\n",
       "lesion_3                 0\n",
       "cp_data                  0\n",
       "outcome                  0\n",
       "dtype: int64"
      ]
     },
     "execution_count": 18,
     "metadata": {},
     "output_type": "execute_result"
    }
   ],
   "source": [
    "df.isna().sum()"
   ]
  },
  {
   "cell_type": "code",
   "execution_count": 19,
   "id": "5d75f071",
   "metadata": {},
   "outputs": [],
   "source": [
    "# Define a function to fill null values usaing mode.\n",
    "def remove_null_using_mode(df, column_name):\n",
    "    # Get mode value of column \n",
    "    mode_value = df[column_name].mode().iloc[0]\n",
    "    \n",
    "    # Fill null values using mode \n",
    "    df[column_name].fillna(mode_value, inplace=True)\n",
    "    return True"
   ]
  },
  {
   "cell_type": "code",
   "execution_count": 20,
   "id": "67b0b27d",
   "metadata": {},
   "outputs": [
    {
     "name": "stdout",
     "output_type": "stream",
     "text": [
      "Done temp_of_extremities\n",
      "Done peripheral_pulse\n",
      "Done mucous_membrane\n",
      "Done capillary_refill_time\n",
      "Done pain\n",
      "Done peristalsis\n",
      "Done abdominal_distention\n",
      "Done nasogastric_tube\n",
      "Done nasogastric_reflux\n",
      "Done rectal_exam_feces\n",
      "Done abdomen\n",
      "Done abdomo_appearance\n"
     ]
    }
   ],
   "source": [
    "null_columns = ['temp_of_extremities', \n",
    "                'peripheral_pulse',\n",
    "                'mucous_membrane',\n",
    "                'capillary_refill_time',\n",
    "                'pain',\n",
    "                'peristalsis',\n",
    "                'abdominal_distention',\n",
    "                'nasogastric_tube',\n",
    "                'nasogastric_reflux',\n",
    "                'rectal_exam_feces', \n",
    "                'abdomen',\n",
    "                'abdomo_appearance']\n",
    "for column in null_columns:\n",
    "    remove_null_using_mode(df, column)  # Use 'column' instead of 'null_columns'\n",
    "    print(f'Done {column}')"
   ]
  },
  {
   "cell_type": "code",
   "execution_count": 21,
   "id": "a2b5bfec",
   "metadata": {},
   "outputs": [
    {
     "data": {
      "text/plain": [
       "id                       0\n",
       "surgery                  0\n",
       "age                      0\n",
       "hospital_number          0\n",
       "rectal_temp              0\n",
       "pulse                    0\n",
       "respiratory_rate         0\n",
       "temp_of_extremities      0\n",
       "peripheral_pulse         0\n",
       "mucous_membrane          0\n",
       "capillary_refill_time    0\n",
       "pain                     0\n",
       "peristalsis              0\n",
       "abdominal_distention     0\n",
       "nasogastric_tube         0\n",
       "nasogastric_reflux       0\n",
       "nasogastric_reflux_ph    0\n",
       "rectal_exam_feces        0\n",
       "abdomen                  0\n",
       "packed_cell_volume       0\n",
       "total_protein            0\n",
       "abdomo_appearance        0\n",
       "abdomo_protein           0\n",
       "surgical_lesion          0\n",
       "lesion_1                 0\n",
       "lesion_2                 0\n",
       "lesion_3                 0\n",
       "cp_data                  0\n",
       "outcome                  0\n",
       "dtype: int64"
      ]
     },
     "execution_count": 21,
     "metadata": {},
     "output_type": "execute_result"
    }
   ],
   "source": [
    "df.isna().sum()"
   ]
  },
  {
   "cell_type": "code",
   "execution_count": 22,
   "id": "14905c81",
   "metadata": {},
   "outputs": [],
   "source": [
    "x = df.iloc[:,1:28]\n",
    "y = df.iloc[:,28:]"
   ]
  },
  {
   "cell_type": "markdown",
   "id": "cb890a97",
   "metadata": {},
   "source": [
    "# Label Encoding"
   ]
  },
  {
   "cell_type": "code",
   "execution_count": 23,
   "id": "e3c5b840",
   "metadata": {},
   "outputs": [],
   "source": [
    "# lable encoding\n",
    "from sklearn.preprocessing import LabelEncoder\n",
    "\n",
    "categorical_columns = x.select_dtypes(include=['object']).columns\n",
    "\n",
    "label_encoder = LabelEncoder()\n",
    "\n",
    "for column in categorical_columns:\n",
    "    x[column] = label_encoder.fit_transform(x[column].astype(str))\n"
   ]
  },
  {
   "cell_type": "code",
   "execution_count": 24,
   "id": "5d399fc3",
   "metadata": {},
   "outputs": [
    {
     "data": {
      "text/html": [
       "<div>\n",
       "<style scoped>\n",
       "    .dataframe tbody tr th:only-of-type {\n",
       "        vertical-align: middle;\n",
       "    }\n",
       "\n",
       "    .dataframe tbody tr th {\n",
       "        vertical-align: top;\n",
       "    }\n",
       "\n",
       "    .dataframe thead th {\n",
       "        text-align: right;\n",
       "    }\n",
       "</style>\n",
       "<table border=\"1\" class=\"dataframe\">\n",
       "  <thead>\n",
       "    <tr style=\"text-align: right;\">\n",
       "      <th></th>\n",
       "      <th>outcome</th>\n",
       "    </tr>\n",
       "  </thead>\n",
       "  <tbody>\n",
       "    <tr>\n",
       "      <th>0</th>\n",
       "      <td>0</td>\n",
       "    </tr>\n",
       "    <tr>\n",
       "      <th>1</th>\n",
       "      <td>1</td>\n",
       "    </tr>\n",
       "    <tr>\n",
       "      <th>2</th>\n",
       "      <td>2</td>\n",
       "    </tr>\n",
       "    <tr>\n",
       "      <th>3</th>\n",
       "      <td>2</td>\n",
       "    </tr>\n",
       "    <tr>\n",
       "      <th>4</th>\n",
       "      <td>2</td>\n",
       "    </tr>\n",
       "  </tbody>\n",
       "</table>\n",
       "</div>"
      ],
      "text/plain": [
       "   outcome\n",
       "0        0\n",
       "1        1\n",
       "2        2\n",
       "3        2\n",
       "4        2"
      ]
     },
     "execution_count": 24,
     "metadata": {},
     "output_type": "execute_result"
    }
   ],
   "source": [
    "# Fit and transform the 'outcome' column\n",
    "y['outcome'] = label_encoder.fit_transform(y['outcome'])\n",
    "y.head()"
   ]
  },
  {
   "cell_type": "markdown",
   "id": "51f3586c",
   "metadata": {},
   "source": [
    "# scale the data"
   ]
  },
  {
   "cell_type": "code",
   "execution_count": 25,
   "id": "8b21245c",
   "metadata": {},
   "outputs": [],
   "source": [
    "from sklearn.preprocessing import StandardScaler\n",
    "\n",
    "# Initialize the StandardScaler\n",
    "scaler = StandardScaler()\n",
    "\n",
    "# Fit and transform the entire DataFrame\n",
    "x = pd.DataFrame(scaler.fit_transform(x), columns=x.columns)"
   ]
  },
  {
   "cell_type": "markdown",
   "id": "2c975a70",
   "metadata": {},
   "source": [
    "# Logistic Regression"
   ]
  },
  {
   "cell_type": "code",
   "execution_count": 27,
   "id": "465fe969",
   "metadata": {},
   "outputs": [],
   "source": [
    "from sklearn.linear_model import LogisticRegression\n",
    "from sklearn.metrics import accuracy_score\n",
    "from sklearn.model_selection import cross_val_score, GridSearchCV\n",
    "\n",
    "# Define the hyperparameter grid for Logistic Regression\n",
    "param_grid = {\n",
    "    'C': [0.001, 0.01, 0.1, 1, 10],\n",
    "    'penalty': ['l2']\n",
    "}\n",
    "\n",
    "# Create a Logistic Regression classifier\n",
    "lr_classifier = LogisticRegression(random_state=12)\n",
    "\n",
    "# Create a GridSearchCV object with the classifier, hyperparameter grid, and cross-validation settings\n",
    "grid_search = GridSearchCV(lr_classifier, param_grid, cv=5, n_jobs=-1)\n",
    "\n",
    "# Fit the grid search to the training data\n",
    "grid_search.fit(x, y.values.ravel())\n",
    "\n",
    "# Get the best estimator (classifier with the best hyperparameters)\n",
    "best_lr_classifier = grid_search.best_estimator_\n",
    "\n",
    "# Perform cross-validation to evaluate the Logistic Regression model\n",
    "cv_scores = cross_val_score(best_lr_classifier, x, y.values.ravel(), cv=5)\n",
    "\n",
    "# # Evaluate the Logistic Regression model on the test set\n",
    "# y_pred_cv_lr = best_lr_classifier.predict(x_test)\n",
    "# y_pred_original_cv_lr = label_encoder.inverse_transform(y_pred_cv_lr)\n",
    "\n",
    "# output = pd.DataFrame({'id ': test.id , 'outcome': y_pred_original_cv_lr})\n",
    "# output.to_csv('submission.csv', index=False)"
   ]
  },
  {
   "cell_type": "code",
   "execution_count": 28,
   "id": "afef0964",
   "metadata": {},
   "outputs": [
    {
     "data": {
      "text/plain": [
       "0.6404858299595142"
      ]
     },
     "execution_count": 28,
     "metadata": {},
     "output_type": "execute_result"
    }
   ],
   "source": [
    "cv_scores.mean()"
   ]
  },
  {
   "cell_type": "markdown",
   "id": "336ea436",
   "metadata": {},
   "source": [
    "# Random Forest"
   ]
  },
  {
   "cell_type": "code",
   "execution_count": 29,
   "id": "5319bbae",
   "metadata": {},
   "outputs": [],
   "source": [
    "from sklearn.ensemble import RandomForestClassifier\n",
    "# Define the hyperparameter grid for Random Forest\n",
    "param_grid = {\n",
    "    'n_estimators': [10, 50, 100],\n",
    "    'max_depth': [None, 10, 20],\n",
    "    'min_samples_split': [2, 5, 10],\n",
    "    'min_samples_leaf': [1, 2, 4]\n",
    "}\n",
    "\n",
    "# Create a Random Forest classifier\n",
    "rf_classifier = RandomForestClassifier(random_state=12)\n",
    "\n",
    "# Create a GridSearchCV object with the classifier, hyperparameter grid, and cross-validation settings\n",
    "grid_search = GridSearchCV(rf_classifier, param_grid, cv=5, n_jobs=-1)\n",
    "\n",
    "# Fit the grid search to the training data\n",
    "grid_search.fit(x, y.values.ravel())\n",
    "\n",
    "# Get the best estimator (classifier with the best hyperparameters)\n",
    "best_rf_classifier = grid_search.best_estimator_\n",
    "\n",
    "# Perform cross-validation to evaluate the Random Forest model\n",
    "cv_scores = cross_val_score(best_rf_classifier, x, y.values.ravel(), cv=5)\n",
    "\n",
    "# # Evaluate the Random Forest model on the test set\n",
    "# y_pred_cv_rf = best_rf_classifier.predict(x_test)\n",
    "# y_pred_original_cv_rf = label_encoder.inverse_transform(y_pred_cv_rf)\n",
    "\n",
    "# output = pd.DataFrame({'id': test.id , 'outcome': y_pred_original_cv_rf})\n",
    "# output.to_csv('submission.csv', index=False)"
   ]
  },
  {
   "cell_type": "code",
   "execution_count": 30,
   "id": "4e8f3418",
   "metadata": {},
   "outputs": [
    {
     "data": {
      "text/plain": [
       "0.7060728744939271"
      ]
     },
     "execution_count": 30,
     "metadata": {},
     "output_type": "execute_result"
    }
   ],
   "source": [
    "cv_scores.mean()"
   ]
  },
  {
   "cell_type": "markdown",
   "id": "81b0e59a",
   "metadata": {},
   "source": [
    "# Decision Tree"
   ]
  },
  {
   "cell_type": "code",
   "execution_count": 31,
   "id": "d0c0b345",
   "metadata": {},
   "outputs": [],
   "source": [
    "from sklearn.tree import DecisionTreeClassifier\n",
    "# Define the hyperparameter grid for Decision Tree\n",
    "param_grid = {\n",
    "    'criterion': ['gini', 'entropy'],\n",
    "    'max_depth': [None, 10, 20],\n",
    "    'min_samples_split': [2, 5, 10],\n",
    "    'min_samples_leaf': [1, 2, 4]\n",
    "}\n",
    "\n",
    "# Create a Decision Tree classifier\n",
    "dt_classifier = DecisionTreeClassifier(random_state=12)\n",
    "\n",
    "# Create a GridSearchCV object with the classifier, hyperparameter grid, and cross-validation settings\n",
    "grid_search = GridSearchCV(dt_classifier, param_grid, cv=5, n_jobs=-1)\n",
    "\n",
    "# Fit the grid search to the training data\n",
    "grid_search.fit(x, y.values.ravel())\n",
    "\n",
    "# Get the best estimator (classifier with the best hyperparameters)\n",
    "best_dt_classifier = grid_search.best_estimator_\n",
    "\n",
    "# Perform cross-validation to evaluate the Decision Tree model\n",
    "cv_scores = cross_val_score(best_dt_classifier, x, y.values.ravel(), cv=5)\n",
    "\n",
    "# # Evaluate the Decision Tree model on the test set\n",
    "# y_pred_cv_dt = best_dt_classifier.predict(x_test)\n",
    "# y_pred_original_cv_dt = label_encoder.inverse_transform(y_pred_cv_dt)\n",
    "\n",
    "# output = pd.DataFrame({'id': test.id , 'outcome': y_pred_original_cv_dt})\n",
    "# output.to_csv('submission_dt.csv', index=False)"
   ]
  },
  {
   "cell_type": "code",
   "execution_count": 32,
   "id": "e96e9538",
   "metadata": {},
   "outputs": [
    {
     "data": {
      "text/plain": [
       "0.6129554655870445"
      ]
     },
     "execution_count": 32,
     "metadata": {},
     "output_type": "execute_result"
    }
   ],
   "source": [
    "cv_scores.mean()"
   ]
  },
  {
   "cell_type": "code",
   "execution_count": null,
   "id": "2a4551bf",
   "metadata": {},
   "outputs": [],
   "source": []
  }
 ],
 "metadata": {
  "kernelspec": {
   "display_name": "Python 3 (ipykernel)",
   "language": "python",
   "name": "python3"
  },
  "language_info": {
   "codemirror_mode": {
    "name": "ipython",
    "version": 3
   },
   "file_extension": ".py",
   "mimetype": "text/x-python",
   "name": "python",
   "nbconvert_exporter": "python",
   "pygments_lexer": "ipython3",
   "version": "3.9.12"
  }
 },
 "nbformat": 4,
 "nbformat_minor": 5
}
